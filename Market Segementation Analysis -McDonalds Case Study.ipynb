{
 "cells": [
  {
   "cell_type": "markdown",
   "metadata": {},
   "source": [
    "# Market Segmentation Analysis"
   ]
  },
  {
   "cell_type": "markdown",
   "metadata": {},
   "source": [
    "### By Nitya Ravi"
   ]
  },
  {
   "cell_type": "markdown",
   "metadata": {},
   "source": [
    "---------------"
   ]
  },
  {
   "cell_type": "markdown",
   "metadata": {},
   "source": [
    "## Step 1: Deciding (not) to Segment\n",
    "## Step 2: Specifying the Ideal Target Segment\n",
    "## Step 3: Collecting Data"
   ]
  },
  {
   "cell_type": "markdown",
   "metadata": {},
   "source": [
    "## Step 4: Exploring Data"
   ]
  },
  {
   "cell_type": "code",
   "execution_count": 1,
   "metadata": {},
   "outputs": [
    {
     "name": "stdout",
     "output_type": "stream",
     "text": [
      "Requirement already satisfied: pyMSA in c:\\ana\\lib\\site-packages (0.8.1)\n"
     ]
    }
   ],
   "source": [
    "!pip install pyMSA"
   ]
  },
  {
   "cell_type": "code",
   "execution_count": 2,
   "metadata": {},
   "outputs": [
    {
     "name": "stderr",
     "output_type": "stream",
     "text": [
      "C:\\ANA\\lib\\site-packages\\scipy\\__init__.py:138: UserWarning: A NumPy version >=1.16.5 and <1.23.0 is required for this version of SciPy (detected version 1.24.4)\n",
      "  warnings.warn(f\"A NumPy version >={np_minversion} and <{np_maxversion} is required for this version of \"\n"
     ]
    }
   ],
   "source": [
    "import os\n",
    "import requests\n",
    "import matplotlib.pyplot as plt\n",
    "import seaborn as sns\n",
    "import numpy as np\n",
    "import pandas as pd"
   ]
  },
  {
   "cell_type": "code",
   "execution_count": 3,
   "metadata": {},
   "outputs": [],
   "source": [
    "import warnings\n",
    "warnings.filterwarnings(\"ignore\")"
   ]
  },
  {
   "cell_type": "code",
   "execution_count": 4,
   "metadata": {},
   "outputs": [],
   "source": [
    "from sklearn.mixture import GaussianMixture\n",
    "from sklearn.metrics import confusion_matrix\n",
    "from sklearn.cluster import KMeans\n",
    "from sklearn.decomposition import PCA\n",
    "from sklearn.preprocessing import StandardScaler\n",
    "from statsmodels.graphics.mosaicplot import mosaic\n",
    "from sklearn.metrics import silhouette_score\n",
    "from sklearn.metrics import adjusted_rand_score"
   ]
  },
  {
   "cell_type": "markdown",
   "metadata": {},
   "source": [
    "This snippet of code automatically retrieves the CSV file'mcdonalds.csv' from a given URL in the event that it is not present in the current working directory. Using the os.path.exists() function, it first determines whether the file is present before downloading the data in the event that the file cannot be located."
   ]
  },
  {
   "cell_type": "code",
   "execution_count": 5,
   "metadata": {},
   "outputs": [
    {
     "name": "stdout",
     "output_type": "stream",
     "text": [
      "mcdonalds.csv [Already downloaded]\n"
     ]
    }
   ],
   "source": [
    "if not os.path.exists('mcdonalds.csv'):\n",
    "    data = requests.get(\n",
    "        'https://homepage.boku.ac.at/leisch/MSA/datasets/mcdonalds.csv')\n",
    "    data = data.text\n",
    "    with open('mcdonalds.csv', 'w') as f:\n",
    "        f.write(data)\n",
    "    print('mcdonalds.csv [Downloaded now]')\n",
    "else:\n",
    "    print('mcdonalds.csv [Already downloaded]')"
   ]
  },
  {
   "cell_type": "markdown",
   "metadata": {},
   "source": [
    "The script imports the required libraries to do this: requests for HTTP requests and os for filesystem operations. 'https://homepage.boku.ac.at/leisch/MSA/datasets/mcdonalds.csv' is the defined URL for obtaining the CSV data. The data is retrieved from this URL using requests.get(), and the text content is saved in the 'data' variable.\n",
    "The code then uses a with statement to open a local file called \"mcdonalds.csv\" in write mode. The CSV content is then saved locally by writing the downloaded data into this file using the write() method.\n",
    "\n",
    "A message indicating the successful download of \"mcdonalds.csv\" is printed to the terminal following the writing of the file. On the other hand, the script prints a message stating that the CSV file has already been downloaded if the file already exists in the directory.\n",
    "\n",
    "\n",
    "\n"
   ]
  },
  {
   "cell_type": "code",
   "execution_count": 6,
   "metadata": {},
   "outputs": [
    {
     "data": {
      "text/plain": [
       "Index(['yummy', 'convenient', 'spicy', 'fattening', 'greasy', 'fast', 'cheap',\n",
       "       'tasty', 'expensive', 'healthy', 'disgusting', 'Like', 'Age',\n",
       "       'VisitFrequency', 'Gender'],\n",
       "      dtype='object')"
      ]
     },
     "execution_count": 6,
     "metadata": {},
     "output_type": "execute_result"
    }
   ],
   "source": [
    "df = pd.read_csv('mcdonalds.csv')\n",
    "df.columns"
   ]
  },
  {
   "cell_type": "markdown",
   "metadata": {},
   "source": [
    "A CSV file called \"mcdonalds.csv\" is read by the code and placed into a Pandas DataFrame called \"df.\" The DataFrame's column names are displayed in the output."
   ]
  },
  {
   "cell_type": "code",
   "execution_count": 7,
   "metadata": {},
   "outputs": [
    {
     "data": {
      "text/plain": [
       "(1453, 15)"
      ]
     },
     "execution_count": 7,
     "metadata": {},
     "output_type": "execute_result"
    }
   ],
   "source": [
    "df.shape"
   ]
  },
  {
   "cell_type": "code",
   "execution_count": 8,
   "metadata": {},
   "outputs": [
    {
     "data": {
      "text/html": [
       "<div>\n",
       "<style scoped>\n",
       "    .dataframe tbody tr th:only-of-type {\n",
       "        vertical-align: middle;\n",
       "    }\n",
       "\n",
       "    .dataframe tbody tr th {\n",
       "        vertical-align: top;\n",
       "    }\n",
       "\n",
       "    .dataframe thead th {\n",
       "        text-align: right;\n",
       "    }\n",
       "</style>\n",
       "<table border=\"1\" class=\"dataframe\">\n",
       "  <thead>\n",
       "    <tr style=\"text-align: right;\">\n",
       "      <th></th>\n",
       "      <th>yummy</th>\n",
       "      <th>convenient</th>\n",
       "      <th>spicy</th>\n",
       "      <th>fattening</th>\n",
       "      <th>greasy</th>\n",
       "      <th>fast</th>\n",
       "      <th>cheap</th>\n",
       "      <th>tasty</th>\n",
       "      <th>expensive</th>\n",
       "      <th>healthy</th>\n",
       "      <th>disgusting</th>\n",
       "      <th>Like</th>\n",
       "      <th>Age</th>\n",
       "      <th>VisitFrequency</th>\n",
       "      <th>Gender</th>\n",
       "    </tr>\n",
       "  </thead>\n",
       "  <tbody>\n",
       "    <tr>\n",
       "      <th>0</th>\n",
       "      <td>No</td>\n",
       "      <td>Yes</td>\n",
       "      <td>No</td>\n",
       "      <td>Yes</td>\n",
       "      <td>No</td>\n",
       "      <td>Yes</td>\n",
       "      <td>Yes</td>\n",
       "      <td>No</td>\n",
       "      <td>Yes</td>\n",
       "      <td>No</td>\n",
       "      <td>No</td>\n",
       "      <td>-3</td>\n",
       "      <td>61</td>\n",
       "      <td>Every three months</td>\n",
       "      <td>Female</td>\n",
       "    </tr>\n",
       "    <tr>\n",
       "      <th>1</th>\n",
       "      <td>Yes</td>\n",
       "      <td>Yes</td>\n",
       "      <td>No</td>\n",
       "      <td>Yes</td>\n",
       "      <td>Yes</td>\n",
       "      <td>Yes</td>\n",
       "      <td>Yes</td>\n",
       "      <td>Yes</td>\n",
       "      <td>Yes</td>\n",
       "      <td>No</td>\n",
       "      <td>No</td>\n",
       "      <td>+2</td>\n",
       "      <td>51</td>\n",
       "      <td>Every three months</td>\n",
       "      <td>Female</td>\n",
       "    </tr>\n",
       "    <tr>\n",
       "      <th>2</th>\n",
       "      <td>No</td>\n",
       "      <td>Yes</td>\n",
       "      <td>Yes</td>\n",
       "      <td>Yes</td>\n",
       "      <td>Yes</td>\n",
       "      <td>Yes</td>\n",
       "      <td>No</td>\n",
       "      <td>Yes</td>\n",
       "      <td>Yes</td>\n",
       "      <td>Yes</td>\n",
       "      <td>No</td>\n",
       "      <td>+1</td>\n",
       "      <td>62</td>\n",
       "      <td>Every three months</td>\n",
       "      <td>Female</td>\n",
       "    </tr>\n",
       "  </tbody>\n",
       "</table>\n",
       "</div>"
      ],
      "text/plain": [
       "  yummy convenient spicy fattening greasy fast cheap tasty expensive healthy  \\\n",
       "0    No        Yes    No       Yes     No  Yes   Yes    No       Yes      No   \n",
       "1   Yes        Yes    No       Yes    Yes  Yes   Yes   Yes       Yes      No   \n",
       "2    No        Yes   Yes       Yes    Yes  Yes    No   Yes       Yes     Yes   \n",
       "\n",
       "  disgusting Like  Age      VisitFrequency  Gender  \n",
       "0         No   -3   61  Every three months  Female  \n",
       "1         No   +2   51  Every three months  Female  \n",
       "2         No   +1   62  Every three months  Female  "
      ]
     },
     "execution_count": 8,
     "metadata": {},
     "output_type": "execute_result"
    }
   ],
   "source": [
    "df.head(3)"
   ]
  },
  {
   "cell_type": "code",
   "execution_count": 9,
   "metadata": {},
   "outputs": [],
   "source": [
    "df = df.replace({\"Yes\": 1, \"No\": 0})"
   ]
  },
  {
   "cell_type": "markdown",
   "metadata": {},
   "source": [
    "This is used to replace particular values in the DataFrame 'df' in order to change its values. Here, it changes all of the DataFrame's strings that say \"Yes\" to the numerical value 1 and all of the strings that say \"No\" to the numerical value 0.\n",
    "df is a reference to the 'df' Pandas DataFrame, which most likely includes information regarding respondents' perceptions of particular characteristics of McDonald's menu products.\n",
    "\n",
    "The code.replace({\"Yes\": 1, \"No\": 0}): The purpose of this method call is to tell Pandas to replace the DataFrame. The dictionary represented by the parameter {\"Yes\": 1, \"No\": 0} has keys for the values that need to be changed (\"Yes\" and \"No\"), and the associated values are the changes (1 and 0).\n",
    "\n",
    "The code replaces all occurrences of \"Yes\" in the DataFrame with 1 and \"No\" with 0 across all columns. This conversion from categorical responses to numerical representation facilitates analytical and computational tasks, simplifying calculations and visualizations based on binary attributes."
   ]
  },
  {
   "cell_type": "code",
   "execution_count": 10,
   "metadata": {},
   "outputs": [
    {
     "data": {
      "text/plain": [
       "yummy         0.55\n",
       "convenient    0.91\n",
       "spicy         0.09\n",
       "fattening     0.87\n",
       "greasy        0.53\n",
       "fast          0.90\n",
       "cheap         0.60\n",
       "tasty         0.64\n",
       "expensive     0.36\n",
       "healthy       0.20\n",
       "disgusting    0.24\n",
       "dtype: float64"
      ]
     },
     "execution_count": 10,
     "metadata": {},
     "output_type": "execute_result"
    }
   ],
   "source": [
    "df1 = df.iloc[:, :11]\n",
    "temp = df1.mean().round(2)\n",
    "temp"
   ]
  },
  {
   "cell_type": "markdown",
   "metadata": {},
   "source": [
    "The code snippet df1 = df.iloc[:, :11] creates a new DataFrame 'df1' by selecting the first 11 columns of the original DataFrame 'df' using integer-location based indexing with the iloc function. Then, df1.mean().round(2) calculates the mean (average) value of each column in 'df1'. The mean() function computes the mean along each column, and the .round(2) method rounds the calculated mean values to two decimal places.\n",
    "The output is a Series object presenting the mean values for each column. Each row displays the column name alongside its respective mean value. For instance, 'yummy' has a mean value of 0.55, 'convenient' has a mean value of 0.91, and so forth."
   ]
  },
  {
   "cell_type": "code",
   "execution_count": 11,
   "metadata": {},
   "outputs": [
    {
     "data": {
      "image/png": "[encoded data removed]",
      "text/plain": [
       "<Figure size 432x288 with 1 Axes>"
      ]
     },
     "metadata": {
      "needs_background": "light"
     },
     "output_type": "display_data"
    }
   ],
   "source": [
    "sns.barplot(x=temp.index, y=temp, color='plum');"
   ]
  },
  {
   "cell_type": "code",
   "execution_count": 12,
   "metadata": {},
   "outputs": [
    {
     "data": {
      "text/html": [
       "<div>\n",
       "<style scoped>\n",
       "    .dataframe tbody tr th:only-of-type {\n",
       "        vertical-align: middle;\n",
       "    }\n",
       "\n",
       "    .dataframe tbody tr th {\n",
       "        vertical-align: top;\n",
       "    }\n",
       "\n",
       "    .dataframe thead th {\n",
       "        text-align: right;\n",
       "    }\n",
       "</style>\n",
       "<table border=\"1\" class=\"dataframe\">\n",
       "  <thead>\n",
       "    <tr style=\"text-align: right;\">\n",
       "      <th></th>\n",
       "      <th>yummy</th>\n",
       "      <th>convenient</th>\n",
       "      <th>spicy</th>\n",
       "      <th>fattening</th>\n",
       "      <th>greasy</th>\n",
       "      <th>fast</th>\n",
       "      <th>cheap</th>\n",
       "      <th>tasty</th>\n",
       "      <th>expensive</th>\n",
       "      <th>healthy</th>\n",
       "      <th>disgusting</th>\n",
       "    </tr>\n",
       "  </thead>\n",
       "  <tbody>\n",
       "    <tr>\n",
       "      <th>0</th>\n",
       "      <td>0.704334</td>\n",
       "      <td>-0.437016</td>\n",
       "      <td>0.268698</td>\n",
       "      <td>-0.872074</td>\n",
       "      <td>-1.521184</td>\n",
       "      <td>0.470160</td>\n",
       "      <td>-0.030969</td>\n",
       "      <td>-0.687116</td>\n",
       "      <td>0.367598</td>\n",
       "      <td>0.321161</td>\n",
       "      <td>1.701170</td>\n",
       "    </tr>\n",
       "    <tr>\n",
       "      <th>1</th>\n",
       "      <td>-0.467820</td>\n",
       "      <td>0.364277</td>\n",
       "      <td>-1.596835</td>\n",
       "      <td>-0.004835</td>\n",
       "      <td>0.462385</td>\n",
       "      <td>-0.449321</td>\n",
       "      <td>0.087351</td>\n",
       "      <td>0.446003</td>\n",
       "      <td>0.221855</td>\n",
       "      <td>0.191268</td>\n",
       "      <td>1.467681</td>\n",
       "    </tr>\n",
       "    <tr>\n",
       "      <th>2</th>\n",
       "      <td>0.191986</td>\n",
       "      <td>1.712949</td>\n",
       "      <td>-0.339413</td>\n",
       "      <td>3.368168</td>\n",
       "      <td>-1.266802</td>\n",
       "      <td>0.148058</td>\n",
       "      <td>-0.606634</td>\n",
       "      <td>-0.668576</td>\n",
       "      <td>1.377226</td>\n",
       "      <td>-1.259300</td>\n",
       "      <td>-0.128530</td>\n",
       "    </tr>\n",
       "    <tr>\n",
       "      <th>3</th>\n",
       "      <td>-0.116991</td>\n",
       "      <td>-1.155122</td>\n",
       "      <td>-1.003913</td>\n",
       "      <td>0.469589</td>\n",
       "      <td>1.141750</td>\n",
       "      <td>-0.857182</td>\n",
       "      <td>0.015843</td>\n",
       "      <td>0.390275</td>\n",
       "      <td>-1.578539</td>\n",
       "      <td>0.092189</td>\n",
       "      <td>-0.233201</td>\n",
       "    </tr>\n",
       "    <tr>\n",
       "      <th>4</th>\n",
       "      <td>-0.034724</td>\n",
       "      <td>-1.390267</td>\n",
       "      <td>0.792275</td>\n",
       "      <td>0.473031</td>\n",
       "      <td>-0.270488</td>\n",
       "      <td>-0.847963</td>\n",
       "      <td>-1.804085</td>\n",
       "      <td>-0.700019</td>\n",
       "      <td>1.630339</td>\n",
       "      <td>0.092449</td>\n",
       "      <td>-0.033144</td>\n",
       "    </tr>\n",
       "  </tbody>\n",
       "</table>\n",
       "</div>"
      ],
      "text/plain": [
       "      yummy  convenient     spicy  fattening    greasy      fast     cheap  \\\n",
       "0  0.704334   -0.437016  0.268698  -0.872074 -1.521184  0.470160 -0.030969   \n",
       "1 -0.467820    0.364277 -1.596835  -0.004835  0.462385 -0.449321  0.087351   \n",
       "2  0.191986    1.712949 -0.339413   3.368168 -1.266802  0.148058 -0.606634   \n",
       "3 -0.116991   -1.155122 -1.003913   0.469589  1.141750 -0.857182  0.015843   \n",
       "4 -0.034724   -1.390267  0.792275   0.473031 -0.270488 -0.847963 -1.804085   \n",
       "\n",
       "      tasty  expensive   healthy  disgusting  \n",
       "0 -0.687116   0.367598  0.321161    1.701170  \n",
       "1  0.446003   0.221855  0.191268    1.467681  \n",
       "2 -0.668576   1.377226 -1.259300   -0.128530  \n",
       "3  0.390275  -1.578539  0.092189   -0.233201  \n",
       "4 -0.700019   1.630339  0.092449   -0.033144  "
      ]
     },
     "execution_count": 12,
     "metadata": {},
     "output_type": "execute_result"
    }
   ],
   "source": [
    "scaler = StandardScaler()\n",
    "df2 = scaler.fit_transform(df1)\n",
    "\n",
    "pca = PCA()\n",
    "df2 = pca.fit_transform(df2)\n",
    "\n",
    "pca_df = pd.DataFrame(df2, columns=df1.columns)\n",
    "pca_df.head()"
   ]
  },
  {
   "cell_type": "markdown",
   "metadata": {},
   "source": [
    "An instance of StandardScaler, 'scaler', is created to standardize features by removing the mean and scaling to unit variance, a crucial preprocessing step for many machine learning algorithms sensitive to feature scales. Using the fit_transform method, the scaler is applied to 'df1', resulting in 'df2', which holds the scaled data. Subsequently, an instance of PCA (Principal Component Analysis), 'pca', is created for dimensionality reduction, capturing maximum variance along orthogonal axes. PCA is then applied to 'df2', reducing its dimensionality while preserving essential information. The transformed data is stored in 'pca_df', a new DataFrame with column names retained from the original 'df1'. \n",
    "Finally, 'pca_df.head()' displays the first few rows of 'pca_df', illustrating the data's transformation through PCA.\n",
    "\n",
    "\n"
   ]
  },
  {
   "cell_type": "code",
   "execution_count": 13,
   "metadata": {},
   "outputs": [
    {
     "data": {
      "text/html": [
       "<div>\n",
       "<style scoped>\n",
       "    .dataframe tbody tr th:only-of-type {\n",
       "        vertical-align: middle;\n",
       "    }\n",
       "\n",
       "    .dataframe tbody tr th {\n",
       "        vertical-align: top;\n",
       "    }\n",
       "\n",
       "    .dataframe thead th {\n",
       "        text-align: right;\n",
       "    }\n",
       "</style>\n",
       "<table border=\"1\" class=\"dataframe\">\n",
       "  <thead>\n",
       "    <tr style=\"text-align: right;\">\n",
       "      <th></th>\n",
       "      <th>yummy</th>\n",
       "      <th>convenient</th>\n",
       "      <th>spicy</th>\n",
       "      <th>fattening</th>\n",
       "      <th>greasy</th>\n",
       "      <th>fast</th>\n",
       "      <th>cheap</th>\n",
       "      <th>tasty</th>\n",
       "      <th>expensive</th>\n",
       "      <th>healthy</th>\n",
       "      <th>disgusting</th>\n",
       "    </tr>\n",
       "  </thead>\n",
       "  <tbody>\n",
       "    <tr>\n",
       "      <th>count</th>\n",
       "      <td>1453.000000</td>\n",
       "      <td>1.453000e+03</td>\n",
       "      <td>1.453000e+03</td>\n",
       "      <td>1.453000e+03</td>\n",
       "      <td>1.453000e+03</td>\n",
       "      <td>1.453000e+03</td>\n",
       "      <td>1.453000e+03</td>\n",
       "      <td>1.453000e+03</td>\n",
       "      <td>1.453000e+03</td>\n",
       "      <td>1.453000e+03</td>\n",
       "      <td>1.453000e+03</td>\n",
       "    </tr>\n",
       "    <tr>\n",
       "      <th>mean</th>\n",
       "      <td>0.000000</td>\n",
       "      <td>5.868213e-17</td>\n",
       "      <td>7.335266e-18</td>\n",
       "      <td>2.567343e-17</td>\n",
       "      <td>-6.112721e-17</td>\n",
       "      <td>6.418357e-18</td>\n",
       "      <td>1.711562e-17</td>\n",
       "      <td>1.589308e-17</td>\n",
       "      <td>-8.191047e-17</td>\n",
       "      <td>-6.785121e-17</td>\n",
       "      <td>2.200580e-17</td>\n",
       "    </tr>\n",
       "    <tr>\n",
       "      <th>std</th>\n",
       "      <td>1.677250</td>\n",
       "      <td>1.277868e+00</td>\n",
       "      <td>1.175207e+00</td>\n",
       "      <td>1.040053e+00</td>\n",
       "      <td>9.586196e-01</td>\n",
       "      <td>8.846128e-01</td>\n",
       "      <td>8.457741e-01</td>\n",
       "      <td>7.698704e-01</td>\n",
       "      <td>7.240648e-01</td>\n",
       "      <td>5.548094e-01</td>\n",
       "      <td>5.069825e-01</td>\n",
       "    </tr>\n",
       "    <tr>\n",
       "      <th>min</th>\n",
       "      <td>-2.883694</td>\n",
       "      <td>-2.229399e+00</td>\n",
       "      <td>-1.852180e+00</td>\n",
       "      <td>-1.481192e+00</td>\n",
       "      <td>-2.808926e+00</td>\n",
       "      <td>-2.775970e+00</td>\n",
       "      <td>-2.791864e+00</td>\n",
       "      <td>-2.037274e+00</td>\n",
       "      <td>-2.291970e+00</td>\n",
       "      <td>-1.596087e+00</td>\n",
       "      <td>-1.788916e+00</td>\n",
       "    </tr>\n",
       "    <tr>\n",
       "      <th>25%</th>\n",
       "      <td>-1.082756</td>\n",
       "      <td>-8.196100e-01</td>\n",
       "      <td>-8.166025e-01</td>\n",
       "      <td>-7.415504e-01</td>\n",
       "      <td>-6.594894e-01</td>\n",
       "      <td>-6.525637e-01</td>\n",
       "      <td>-5.180840e-01</td>\n",
       "      <td>-4.690456e-01</td>\n",
       "      <td>-4.512112e-01</td>\n",
       "      <td>2.327974e-02</td>\n",
       "      <td>-6.189398e-02</td>\n",
       "    </tr>\n",
       "    <tr>\n",
       "      <th>50%</th>\n",
       "      <td>-0.227553</td>\n",
       "      <td>-4.300592e-02</td>\n",
       "      <td>-1.739581e-01</td>\n",
       "      <td>-1.634068e-01</td>\n",
       "      <td>-2.368836e-02</td>\n",
       "      <td>-6.102541e-02</td>\n",
       "      <td>3.398968e-02</td>\n",
       "      <td>2.066852e-01</td>\n",
       "      <td>9.809878e-02</td>\n",
       "      <td>1.212930e-01</td>\n",
       "      <td>5.602312e-02</td>\n",
       "    </tr>\n",
       "    <tr>\n",
       "      <th>75%</th>\n",
       "      <td>1.079822</td>\n",
       "      <td>9.227436e-01</td>\n",
       "      <td>6.062742e-01</td>\n",
       "      <td>1.380806e-01</td>\n",
       "      <td>4.441573e-01</td>\n",
       "      <td>4.651667e-01</td>\n",
       "      <td>6.711110e-01</td>\n",
       "      <td>5.707646e-01</td>\n",
       "      <td>4.033967e-01</td>\n",
       "      <td>1.917207e-01</td>\n",
       "      <td>1.920805e-01</td>\n",
       "    </tr>\n",
       "    <tr>\n",
       "      <th>max</th>\n",
       "      <td>4.566454</td>\n",
       "      <td>4.102422e+00</td>\n",
       "      <td>4.199369e+00</td>\n",
       "      <td>4.202991e+00</td>\n",
       "      <td>3.606405e+00</td>\n",
       "      <td>4.201958e+00</td>\n",
       "      <td>3.693790e+00</td>\n",
       "      <td>2.829568e+00</td>\n",
       "      <td>2.462379e+00</td>\n",
       "      <td>1.849848e+00</td>\n",
       "      <td>1.834070e+00</td>\n",
       "    </tr>\n",
       "  </tbody>\n",
       "</table>\n",
       "</div>"
      ],
      "text/plain": [
       "             yummy    convenient         spicy     fattening        greasy  \\\n",
       "count  1453.000000  1.453000e+03  1.453000e+03  1.453000e+03  1.453000e+03   \n",
       "mean      0.000000  5.868213e-17  7.335266e-18  2.567343e-17 -6.112721e-17   \n",
       "std       1.677250  1.277868e+00  1.175207e+00  1.040053e+00  9.586196e-01   \n",
       "min      -2.883694 -2.229399e+00 -1.852180e+00 -1.481192e+00 -2.808926e+00   \n",
       "25%      -1.082756 -8.196100e-01 -8.166025e-01 -7.415504e-01 -6.594894e-01   \n",
       "50%      -0.227553 -4.300592e-02 -1.739581e-01 -1.634068e-01 -2.368836e-02   \n",
       "75%       1.079822  9.227436e-01  6.062742e-01  1.380806e-01  4.441573e-01   \n",
       "max       4.566454  4.102422e+00  4.199369e+00  4.202991e+00  3.606405e+00   \n",
       "\n",
       "               fast         cheap         tasty     expensive       healthy  \\\n",
       "count  1.453000e+03  1.453000e+03  1.453000e+03  1.453000e+03  1.453000e+03   \n",
       "mean   6.418357e-18  1.711562e-17  1.589308e-17 -8.191047e-17 -6.785121e-17   \n",
       "std    8.846128e-01  8.457741e-01  7.698704e-01  7.240648e-01  5.548094e-01   \n",
       "min   -2.775970e+00 -2.791864e+00 -2.037274e+00 -2.291970e+00 -1.596087e+00   \n",
       "25%   -6.525637e-01 -5.180840e-01 -4.690456e-01 -4.512112e-01  2.327974e-02   \n",
       "50%   -6.102541e-02  3.398968e-02  2.066852e-01  9.809878e-02  1.212930e-01   \n",
       "75%    4.651667e-01  6.711110e-01  5.707646e-01  4.033967e-01  1.917207e-01   \n",
       "max    4.201958e+00  3.693790e+00  2.829568e+00  2.462379e+00  1.849848e+00   \n",
       "\n",
       "         disgusting  \n",
       "count  1.453000e+03  \n",
       "mean   2.200580e-17  \n",
       "std    5.069825e-01  \n",
       "min   -1.788916e+00  \n",
       "25%   -6.189398e-02  \n",
       "50%    5.602312e-02  \n",
       "75%    1.920805e-01  \n",
       "max    1.834070e+00  "
      ]
     },
     "execution_count": 13,
     "metadata": {},
     "output_type": "execute_result"
    }
   ],
   "source": [
    "pca_df.describe()"
   ]
  },
  {
   "cell_type": "markdown",
   "metadata": {},
   "source": [
    "* `count`: The count shows how many values for each attribute are present and not missing. In each column, it shows the total amount of data points that are available for analysis.\n",
    "\n",
    "* `mean`: The average value of every property is its mean. The fact that the data in this case has been standardized means that each attribute's mean should be extremely near to zero, or around zero, suggesting that the data has been centered.    \n",
    "* `std`: A measure of how much each attribute's values deviate from the mean is the standard deviation. Less variability is indicated by smaller standard deviations.\n",
    "\n",
    "* `min`: The value that, following normalization, is the lowest in each attribute column. It stands for each column's lowest standardized value.\n",
    "\n",
    "* `25%, 50%, 75%`: The values below which a specific percentage of observations fall are represented by the percentiles 25%, 50%, and 75%. The values below which 25% of the observations fall are called the 25th percentile (Q1), the median is called the 50th percentile (Q2), and the values below which 75% of the observations fall are called the 75th percentile (Q3).\n",
    "\n",
    "* `max`: Following standardization, the highest value found in each attribute column. It stands for each column's greatest standardized value.   \n",
    "    "
   ]
  },
  {
   "cell_type": "code",
   "execution_count": 14,
   "metadata": {},
   "outputs": [
    {
     "data": {
      "text/html": [
       "<div>\n",
       "<style scoped>\n",
       "    .dataframe tbody tr th:only-of-type {\n",
       "        vertical-align: middle;\n",
       "    }\n",
       "\n",
       "    .dataframe tbody tr th {\n",
       "        vertical-align: top;\n",
       "    }\n",
       "\n",
       "    .dataframe thead th {\n",
       "        text-align: right;\n",
       "    }\n",
       "</style>\n",
       "<table border=\"1\" class=\"dataframe\">\n",
       "  <thead>\n",
       "    <tr style=\"text-align: right;\">\n",
       "      <th></th>\n",
       "      <th>PC1</th>\n",
       "      <th>PC2</th>\n",
       "      <th>PC3</th>\n",
       "      <th>PC4</th>\n",
       "      <th>PC5</th>\n",
       "      <th>PC6</th>\n",
       "      <th>PC7</th>\n",
       "      <th>PC8</th>\n",
       "      <th>PC9</th>\n",
       "      <th>PC10</th>\n",
       "      <th>PC11</th>\n",
       "    </tr>\n",
       "  </thead>\n",
       "  <tbody>\n",
       "    <tr>\n",
       "      <th>yummy</th>\n",
       "      <td>-0.406955</td>\n",
       "      <td>-0.308827</td>\n",
       "      <td>-0.023320</td>\n",
       "      <td>0.177861</td>\n",
       "      <td>0.267796</td>\n",
       "      <td>-0.213039</td>\n",
       "      <td>-0.289134</td>\n",
       "      <td>-0.426115</td>\n",
       "      <td>0.290944</td>\n",
       "      <td>-0.266839</td>\n",
       "      <td>0.410744</td>\n",
       "    </tr>\n",
       "    <tr>\n",
       "      <th>convenient</th>\n",
       "      <td>0.282615</td>\n",
       "      <td>-0.045682</td>\n",
       "      <td>0.069982</td>\n",
       "      <td>-0.205590</td>\n",
       "      <td>-0.136300</td>\n",
       "      <td>-0.282441</td>\n",
       "      <td>-0.575032</td>\n",
       "      <td>0.242199</td>\n",
       "      <td>0.567528</td>\n",
       "      <td>0.201031</td>\n",
       "      <td>-0.143888</td>\n",
       "    </tr>\n",
       "    <tr>\n",
       "      <th>spicy</th>\n",
       "      <td>-0.259588</td>\n",
       "      <td>-0.317151</td>\n",
       "      <td>0.020170</td>\n",
       "      <td>-0.608077</td>\n",
       "      <td>-0.389568</td>\n",
       "      <td>-0.211395</td>\n",
       "      <td>0.125157</td>\n",
       "      <td>-0.269648</td>\n",
       "      <td>-0.183298</td>\n",
       "      <td>0.367814</td>\n",
       "      <td>0.090299</td>\n",
       "    </tr>\n",
       "    <tr>\n",
       "      <th>fattening</th>\n",
       "      <td>0.026237</td>\n",
       "      <td>-0.009424</td>\n",
       "      <td>0.845496</td>\n",
       "      <td>-0.023396</td>\n",
       "      <td>0.330854</td>\n",
       "      <td>0.090363</td>\n",
       "      <td>0.114477</td>\n",
       "      <td>0.072691</td>\n",
       "      <td>0.035510</td>\n",
       "      <td>0.301990</td>\n",
       "      <td>0.235231</td>\n",
       "    </tr>\n",
       "    <tr>\n",
       "      <th>greasy</th>\n",
       "      <td>0.346857</td>\n",
       "      <td>-0.437148</td>\n",
       "      <td>-0.185551</td>\n",
       "      <td>0.086934</td>\n",
       "      <td>0.343713</td>\n",
       "      <td>-0.568939</td>\n",
       "      <td>0.256981</td>\n",
       "      <td>0.286099</td>\n",
       "      <td>-0.207362</td>\n",
       "      <td>0.051787</td>\n",
       "      <td>0.105843</td>\n",
       "    </tr>\n",
       "    <tr>\n",
       "      <th>fast</th>\n",
       "      <td>-0.124916</td>\n",
       "      <td>0.188966</td>\n",
       "      <td>0.438661</td>\n",
       "      <td>0.107520</td>\n",
       "      <td>-0.278329</td>\n",
       "      <td>-0.572734</td>\n",
       "      <td>0.020657</td>\n",
       "      <td>-0.053053</td>\n",
       "      <td>-0.171160</td>\n",
       "      <td>-0.446166</td>\n",
       "      <td>-0.328041</td>\n",
       "    </tr>\n",
       "    <tr>\n",
       "      <th>cheap</th>\n",
       "      <td>0.159878</td>\n",
       "      <td>-0.661814</td>\n",
       "      <td>0.214188</td>\n",
       "      <td>-0.023851</td>\n",
       "      <td>-0.307300</td>\n",
       "      <td>0.392436</td>\n",
       "      <td>-0.008895</td>\n",
       "      <td>0.197364</td>\n",
       "      <td>0.015198</td>\n",
       "      <td>-0.449446</td>\n",
       "      <td>-0.017070</td>\n",
       "    </tr>\n",
       "    <tr>\n",
       "      <th>tasty</th>\n",
       "      <td>0.016587</td>\n",
       "      <td>0.150033</td>\n",
       "      <td>-0.027835</td>\n",
       "      <td>-0.720478</td>\n",
       "      <td>0.487275</td>\n",
       "      <td>0.055976</td>\n",
       "      <td>-0.064667</td>\n",
       "      <td>0.059289</td>\n",
       "      <td>-0.061727</td>\n",
       "      <td>-0.446110</td>\n",
       "      <td>-0.079122</td>\n",
       "    </tr>\n",
       "    <tr>\n",
       "      <th>expensive</th>\n",
       "      <td>-0.195341</td>\n",
       "      <td>-0.336539</td>\n",
       "      <td>0.025239</td>\n",
       "      <td>0.105052</td>\n",
       "      <td>0.346137</td>\n",
       "      <td>0.099235</td>\n",
       "      <td>-0.062027</td>\n",
       "      <td>-0.213587</td>\n",
       "      <td>-0.009675</td>\n",
       "      <td>0.219269</td>\n",
       "      <td>-0.780777</td>\n",
       "    </tr>\n",
       "    <tr>\n",
       "      <th>healthy</th>\n",
       "      <td>0.691446</td>\n",
       "      <td>0.028831</td>\n",
       "      <td>0.058187</td>\n",
       "      <td>-0.020311</td>\n",
       "      <td>-0.015160</td>\n",
       "      <td>0.017917</td>\n",
       "      <td>0.060323</td>\n",
       "      <td>-0.713426</td>\n",
       "      <td>0.029581</td>\n",
       "      <td>-0.054544</td>\n",
       "      <td>-0.016028</td>\n",
       "    </tr>\n",
       "    <tr>\n",
       "      <th>disgusting</th>\n",
       "      <td>-0.091851</td>\n",
       "      <td>0.021460</td>\n",
       "      <td>-0.041960</td>\n",
       "      <td>-0.074626</td>\n",
       "      <td>-0.031047</td>\n",
       "      <td>-0.054448</td>\n",
       "      <td>0.691923</td>\n",
       "      <td>0.006426</td>\n",
       "      <td>0.693614</td>\n",
       "      <td>-0.089903</td>\n",
       "      <td>-0.108920</td>\n",
       "    </tr>\n",
       "  </tbody>\n",
       "</table>\n",
       "</div>"
      ],
      "text/plain": [
       "                 PC1       PC2       PC3       PC4       PC5       PC6  \\\n",
       "yummy      -0.406955 -0.308827 -0.023320  0.177861  0.267796 -0.213039   \n",
       "convenient  0.282615 -0.045682  0.069982 -0.205590 -0.136300 -0.282441   \n",
       "spicy      -0.259588 -0.317151  0.020170 -0.608077 -0.389568 -0.211395   \n",
       "fattening   0.026237 -0.009424  0.845496 -0.023396  0.330854  0.090363   \n",
       "greasy      0.346857 -0.437148 -0.185551  0.086934  0.343713 -0.568939   \n",
       "fast       -0.124916  0.188966  0.438661  0.107520 -0.278329 -0.572734   \n",
       "cheap       0.159878 -0.661814  0.214188 -0.023851 -0.307300  0.392436   \n",
       "tasty       0.016587  0.150033 -0.027835 -0.720478  0.487275  0.055976   \n",
       "expensive  -0.195341 -0.336539  0.025239  0.105052  0.346137  0.099235   \n",
       "healthy     0.691446  0.028831  0.058187 -0.020311 -0.015160  0.017917   \n",
       "disgusting -0.091851  0.021460 -0.041960 -0.074626 -0.031047 -0.054448   \n",
       "\n",
       "                 PC7       PC8       PC9      PC10      PC11  \n",
       "yummy      -0.289134 -0.426115  0.290944 -0.266839  0.410744  \n",
       "convenient -0.575032  0.242199  0.567528  0.201031 -0.143888  \n",
       "spicy       0.125157 -0.269648 -0.183298  0.367814  0.090299  \n",
       "fattening   0.114477  0.072691  0.035510  0.301990  0.235231  \n",
       "greasy      0.256981  0.286099 -0.207362  0.051787  0.105843  \n",
       "fast        0.020657 -0.053053 -0.171160 -0.446166 -0.328041  \n",
       "cheap      -0.008895  0.197364  0.015198 -0.449446 -0.017070  \n",
       "tasty      -0.064667  0.059289 -0.061727 -0.446110 -0.079122  \n",
       "expensive  -0.062027 -0.213587 -0.009675  0.219269 -0.780777  \n",
       "healthy     0.060323 -0.713426  0.029581 -0.054544 -0.016028  \n",
       "disgusting  0.691923  0.006426  0.693614 -0.089903 -0.108920  "
      ]
     },
     "execution_count": 14,
     "metadata": {},
     "output_type": "execute_result"
    }
   ],
   "source": [
    "pd.DataFrame(\n",
    "    pca.components_, \n",
    "    columns=[f'PC{i}' for i in range(1, 12)], \n",
    "    index=pca_df.columns\n",
    ")"
   ]
  },
  {
   "cell_type": "markdown",
   "metadata": {},
   "source": [
    "The table displays principal components <b>(PC1 to PC11)</b> obtained from <b>PCA </b>. Each column represents a principal component, with PC1 corresponding to the first principal component, PC2 to the second, and so forth up to PC11. Rows represent attributes from the original data, such as 'yummy' for food perception. The values in the table indicate the weights of each original attribute in the corresponding principal component, revealing their influence's strength and direction. For example, predominantly negative values in PC1 imply a negative influence of 'yummy' on this component. This information aids in understanding how attributes contribute to the overall variance captured by each principal component."
   ]
  },
  {
   "cell_type": "code",
   "execution_count": 15,
   "metadata": {},
   "outputs": [
    {
     "data": {
      "image/png": "[encoded data removed]",
      "text/plain": [
       "<Figure size 432x288 with 1 Axes>"
      ]
     },
     "metadata": {
      "needs_background": "light"
     },
     "output_type": "display_data"
    }
   ],
   "source": [
    "sns.scatterplot(data=pca_df, x='yummy', y='convenient', color='darkblue');"
   ]
  },
  {
   "cell_type": "code",
   "execution_count": 16,
   "metadata": {},
   "outputs": [
    {
     "data": {
      "image/png": "[encoded data removed]",
      "text/plain": [
       "<Figure size 432x288 with 1 Axes>"
      ]
     },
     "metadata": {
      "needs_background": "light"
     },
     "output_type": "display_data"
    }
   ],
   "source": [
    "scale = 1\n",
    "\n",
    "for i,j in enumerate(pca_df.columns):\n",
    "    plt.text(\n",
    "        pca.components_[0, :][i]*scale, \n",
    "        (pca.components_[1, :][i]+0.02)*scale, \n",
    "        j, color='blue'\n",
    "    )\n",
    "    # plt.arrow(0, 0, pca.components_[0, :][i]*scale, pca.components_[1, :][i]*scale, color='red')\n",
    "    plt.annotate(\n",
    "        '', xytext=(0, 0), \n",
    "        xy=(pca.components_[0, :][i]*scale, \n",
    "        pca.components_[1, :][i]*scale), \n",
    "        arrowprops=dict(\n",
    "            arrowstyle=\"->\", \n",
    "            color='grey'\n",
    "        )\n",
    "    )\n",
    "plt.scatter(\n",
    "    pca.components_[0, :]*scale, \n",
    "    pca.components_[1, :]*scale, \n",
    "    color='red'\n",
    ")\n",
    "plt.xlabel('PC1')\n",
    "plt.ylabel('PC2')\n",
    "plt.title('Principal Component Axes')\n",
    "plt.show()"
   ]
  },
  {
   "cell_type": "markdown",
   "metadata": {},
   "source": [
    "* The code involves a loop that iterates through each column (attribute) in the PCA-transformed DataFrame.\n",
    "* Inside the loop,<b> pca.components_[0, :][i] </b> represents the weight of the current attribute on the first principal component, while pca.components_[1, :][i] represents the weight on the second principal component. These values determine the position of the annotations.\n",
    "* The <b> plt.text() </b> function adds blue text labels for each attribute's name close to its corresponding position on the plot.\n",
    "* The <b> plt.annotate() </b> function adds red arrows from the origin (0, 0) to each attribute's position on the plot, indicating *  the influence of attributes on the principal components.\n",
    "* <b> The plt.scatter() </b> function plots points representing the attributes' weights on the first two principal components, displayed in red.\n",
    "* Finally, axis labels, a title, and the plot are displayed using <b> plt.xlabel(), plt.ylabel(), plt.title(), and plt.show()</N>."
   ]
  },
  {
   "cell_type": "markdown",
   "metadata": {},
   "source": [
    "## Step 5: Extracting Segments"
   ]
  },
  {
   "cell_type": "markdown",
   "metadata": {},
   "source": [
    "Customer Segmentation Using K Means Clustering"
   ]
  },
  {
   "cell_type": "code",
   "execution_count": 17,
   "metadata": {},
   "outputs": [],
   "source": [
    "np.random.seed(0)"
   ]
  },
  {
   "cell_type": "code",
   "execution_count": 18,
   "metadata": {},
   "outputs": [],
   "source": [
    "k_range = range(2, 9)\n",
    "inertias = []\n",
    "k_result = []\n",
    "silhouette_scores = []\n",
    "for k in k_range:\n",
    "    model = KMeans(\n",
    "        n_clusters=k, \n",
    "        n_init=10, \n",
    "        random_state=0)\n",
    "    model.fit(pca_df)\n",
    "    labels = model.predict(pca_df)\n",
    "    silhouette_score_ = silhouette_score(\n",
    "        pca_df, \n",
    "        labels\n",
    "    )\n",
    "    silhouette_scores.append(silhouette_score_)\n",
    "    inertias.append(model.inertia_)\n",
    "    k_result.append(labels)"
   ]
  },
  {
   "cell_type": "markdown",
   "metadata": {},
   "source": [
    "* <b> k_range </b> = range(2, 9): This line creates a range of values for the number of clusters, 'k', to be tested. The range starts from 2 and goes up to (but does not include) 9. These 'k' values will be used to evaluate different cluster numbers.\n",
    "*<b> inertias </b> = [], <b> k_result = [] </b>, <b> silhouette_scores = []</b>: These empty lists are initialized to store the inertia, cluster labels, and silhouette scores for various 'k' values. They will be populated as the code iterates through the range of 'k' values, collecting results from each clustering attempt.\n",
    "* <b>Loop (for k in k_range:)</b>: This loop iterates over each 'k' value in the specified range, allowing for the testing of different cluster numbers and the collection of corresponding evaluation metrics.\n",
    "* <b> Inside the loop</b>: Within the loop, a KMeans clustering model is instantiated using the current value of 'k', defining the number of clusters. This model is configured with parameters like n_init, determining the number of times the algorithm will run with different centroid seeds, and random_state for reproducibility. Subsequently, the model is fitted to the PCA-transformed data, pca_df, allowing for clustering based on principal components. Predictions of cluster labels for each data point are then generated using the fitted KMeans model. Additionally, the silhouette score, a metric assessing cluster quality, is computed for the current clustering solution. Higher silhouette scores indicate better-defined clusters. Finally, the calculated silhouette score, inertia (representing within-cluster sum of squared distances), and cluster labels are appended to their respective lists for further analysis and comparison across different 'k' values.\n",
    "* <b> After the loop</b>: The inertias list stores the within-cluster sum of squared distances for each tested number of clusters, denoted as 'k'. This metric provides insight into the compactness of clusters, with lower values indicating tighter clusters. The silhouette_scores list contains silhouette scores calculated for each 'k', representing the quality and separation of clusters. Higher silhouette scores suggest more distinct and well-separated clusters. Lastly, the k_result list records the cluster labels assigned to data points for each 'k' value, facilitating the examination of how data points are grouped across different cluster numbers. Together, these lists capture essential information regarding clustering performance across varying numbers of clusters, aiding in the selection of an optimal cluster configuration"
   ]
  },
  {
   "cell_type": "code",
   "execution_count": 19,
   "metadata": {},
   "outputs": [
    {
     "data": {
      "image/png": "[encoded data removed]",
      "text/plain": [
       "<Figure size 720x216 with 2 Axes>"
      ]
     },
     "metadata": {
      "needs_background": "light"
     },
     "output_type": "display_data"
    }
   ],
   "source": [
    "fig, axs = plt.subplots(1, 2)\n",
    "fig.set_size_inches(10, 3)\n",
    "axs[0].plot(range(2, 9), inertias)\n",
    "axs[0].annotate(\n",
    "    'Elbow', xytext=(7, 10000), xy=(6, inertias[4]), \n",
    "    arrowprops=dict(arrowstyle=\"->\", color='purple'))\n",
    "axs[1].plot(range(2, 9), silhouette_scores)\n",
    "axs[0].set(xlabel='k', ylabel='Inertia')\n",
    "axs[1].set(xlabel='k', ylabel='Silhouette score');"
   ]
  },
  {
   "cell_type": "code",
   "execution_count": 20,
   "metadata": {},
   "outputs": [
    {
     "data": {
      "image/png": "[encoded data removed]",
      "text/plain": [
       "<Figure size 432x288 with 1 Axes>"
      ]
     },
     "metadata": {
      "needs_background": "light"
     },
     "output_type": "display_data"
    }
   ],
   "source": [
    "n_boot = 100\n",
    "ARI_scores = []\n",
    "for labels in k_result:\n",
    "    ari_boot = []\n",
    "    for _ in range(n_boot):\n",
    "        random_sample = np.random.choice(\n",
    "            labels, \n",
    "            size=len(labels), \n",
    "            replace=True\n",
    "        )\n",
    "        ari = adjusted_rand_score(\n",
    "            labels, \n",
    "            random_sample\n",
    "        )\n",
    "        ari_boot.append(ari)\n",
    "    ARI_scores.append(ari_boot)\n",
    "\n",
    "plt.boxplot(ARI_scores, labels=range(2, 9))\n",
    "plt.xlabel('Number of segments')\n",
    "plt.ylabel('Adjusted Rand index')\n",
    "plt.title('Adjusted Rand Index Distribution')\n",
    "plt.show()"
   ]
  },
  {
   "cell_type": "markdown",
   "metadata": {},
   "source": [
    "- <b> n_boot</b> = 100: Specifies the number of bootstrapping iterations to be performed for each set of cluster labels.\n",
    "- <b>ARI_scores = []</b>: Initializes an empty list to store the Adjusted Rand Index (ARI) scores obtained through bootstrapping for each set of cluster labels.\n",
    "- <b>Loop (for labels in k_result:)</b>: Iterates through the list of cluster labels generated for different 'k' values during K-means clustering.\n",
    "- <b>Inside the loop</b>:\n",
    "  * ari_boot = []: Initializes an empty list to store ARI scores obtained through bootstrapping for the current set of cluster labels.\n",
    "  * Loop (for _ in range(n_boot):): Performs bootstrapping by randomly sampling cluster labels with replacement.\n",
    "  * random_sample = np.random.choice(labels, size=len(labels), replace=True): Generates a random sample of cluster labels with the same length as the original labels.\n",
    "  * ari = adjusted_rand_score(labels, random_sample): Computes the Adjusted Rand Index between the original cluster labels and the bootstrapped sample.\n",
    "  * ari_boot.append(ari): Appends the calculated ARI to the list of ARI scores obtained through bootstrapping.\n",
    "  * ARI_scores.append(ari_boot): Appends the list of bootstrapped ARI scores for the current 'k' value to the main list of ARI scores.\n",
    "  * After the loops:\n",
    "- <b>plt.boxplot(ARI_scores, labels=range(2, 9))</b>: Creates a boxplot to visualize the distribution of ARI scores across different 'k' values.\n",
    "- <b>plt.xlabel('Number of segments'), plt.ylabel('Adjusted Rand index'), plt.title('Adjusted Rand Index Distribution')</b>: Sets the axis labels and title for the plot.\n",
    "- <b>plt.show()</b>: Displays the boxplot.\n",
    "\n",
    "This code assesses the stability of K-means clustering results by computing the Adjusted Rand Index for the original cluster labels and bootstrapped samples of cluster labels. The resulting boxplot visualizes the stability of clustering solutions for different values of 'k'.\n",
    "\n",
    "\n"
   ]
  },
  {
   "cell_type": "markdown",
   "metadata": {},
   "source": [
    "In the clustering analysis, both `Gaussian Mixture Model (GMM)` and `K-means` methods are applied. For GMM clustering, a model with 4 components is created using GaussianMixture, and it is fitted to the `PCA-transformed data`. The cluster assignments are predicted using `gmm.predict(pca_df)`, and these assignments are stored in `cluster_assignments_gmm`. Meanwhile, for `K-means clustering`, a model with 4 clusters is created using KMeans, fitted to the PCA-transformed data, and the cluster assignments are predicted using `model.predict(pca_df)`, which are stored in labels. Subsequently, a `confusion matrix` is computed using `confusion_matrix(labels, cluster_assignments_gmm)`, demonstrating the agreement between K-means and GMM cluster assignments. This confusion matrix provides insight into how instances are distributed across the clusters generated by each method, aiding in the evaluation of clustering performance."
   ]
  },
  {
   "cell_type": "code",
   "execution_count": 21,
   "metadata": {},
   "outputs": [
    {
     "name": "stdout",
     "output_type": "stream",
     "text": [
      "Confusion Matrix:\n",
      "[[116   4   0  96]\n",
      " [  7 163  97   3]\n",
      " [  6  71 268 269]\n",
      " [  5  55 222  71]]\n"
     ]
    }
   ],
   "source": [
    "gmm = GaussianMixture(\n",
    "    n_components=4, \n",
    "    covariance_type='full', \n",
    "    random_state=1234\n",
    ")\n",
    "gmm.fit(pca_df)\n",
    "\n",
    "cluster_assignments_gmm = gmm.predict(pca_df)\n",
    "\n",
    "model = KMeans(\n",
    "    n_clusters=4, \n",
    "    n_init=10, \n",
    "    random_state=0\n",
    ")\n",
    "model.fit(pca_df)\n",
    "labels = model.predict(pca_df)\n",
    "\n",
    "conf_matrix = confusion_matrix(\n",
    "    labels, \n",
    "    cluster_assignments_gmm\n",
    ")\n",
    "\n",
    "print(\"Confusion Matrix:\")\n",
    "print(conf_matrix)"
   ]
  },
  {
   "cell_type": "markdown",
   "metadata": {},
   "source": [
    "The predicted cluster assignments from K-means are represented by each row in this matrix, and the predicted cluster assignments from GMM are represented by each column. The values give information about how many cases fit into each combination of clusters and reveal how well the two clustering techniques agree."
   ]
  },
  {
   "cell_type": "code",
   "execution_count": 22,
   "metadata": {},
   "outputs": [
    {
     "data": {
      "image/png": "[encoded data removed]",
      "text/plain": [
       "<Figure size 432x288 with 1 Axes>"
      ]
     },
     "metadata": {
      "needs_background": "light"
     },
     "output_type": "display_data"
    },
    {
     "data": {
      "image/png": "[encoded data removed]",
      "text/plain": [
       "<Figure size 432x288 with 1 Axes>"
      ]
     },
     "metadata": {
      "needs_background": "light"
     },
     "output_type": "display_data"
    }
   ],
   "source": [
    "k6 = KMeans(n_clusters=6)\n",
    "k6.fit(pca_df)\n",
    "l6 = k6.predict(pca_df)\n",
    "\n",
    "x = range(6)\n",
    "height = []\n",
    "for i in range(6):\n",
    "    height.append(sum(l6 == i))\n",
    "plt.bar(x, height, alpha=0.7,color='darkorchid');\n",
    "plt.show()\n",
    "\n",
    "for i in range(6):\n",
    "    temp = pca_df[['yummy', 'convenient']][l6 == i]\n",
    "    plt.scatter(\n",
    "        temp['yummy'], \n",
    "        temp['convenient'], \n",
    "        label=i\n",
    "    )\n",
    "plt.xlabel('yummy')\n",
    "plt.ylabel('convenient')\n",
    "plt.legend();\n",
    "plt.show()"
   ]
  },
  {
   "cell_type": "markdown",
   "metadata": {},
   "source": [
    "The code initially conducts K-means clustering with 6 clusters on the PCA-transformed data, a technique used for dimensionality reduction. It then visualizes the distribution of instances within each cluster by creating a bar chart. This bar chart provides an overview of the sizes of each cluster, offering insights into the distribution of data points across different clusters. Subsequently, the code generates scatter plots to depict the distribution of instances in a 2D space defined by the 'yummy' and 'convenient' attributes. Each data point in the scatter plots represents an instance, and different colors are used to distinguish instances belonging to each of the 6 clusters. This visualization allows for the examination of how instances are distributed across clusters within a 2D attribute space, providing insights into the clustering results and the relationships between attributes and clusters. Overall, the code facilitates the exploration and understanding of clustering outcomes by providing both quantitative information on cluster sizes and visual representations of instance distributions across clusters."
   ]
  },
  {
   "cell_type": "code",
   "execution_count": 23,
   "metadata": {},
   "outputs": [
    {
     "data": {
      "image/png": "[encoded data removed]",
      "text/plain": [
       "<Figure size 432x288 with 1 Axes>"
      ]
     },
     "metadata": {
      "needs_background": "light"
     },
     "output_type": "display_data"
    },
    {
     "data": {
      "image/png": "[encoded data removed]",
      "text/plain": [
       "<Figure size 432x288 with 1 Axes>"
      ]
     },
     "metadata": {
      "needs_background": "light"
     },
     "output_type": "display_data"
    }
   ],
   "source": [
    "k4 = KMeans(n_clusters=4)\n",
    "k4.fit(pca_df)\n",
    "l4 = k4.predict(pca_df)\n",
    "\n",
    "x = range(4)\n",
    "height = []\n",
    "for i in range(4):\n",
    "    height.append(sum(l4 == i))\n",
    "plt.bar(x, height, alpha=0.7,color='red');\n",
    "plt.show()\n",
    "\n",
    "for i in range(4):\n",
    "    temp = pca_df[['yummy', 'convenient']][l4 == i]\n",
    "    plt.scatter(\n",
    "        temp['yummy'], \n",
    "        temp['convenient'], \n",
    "        label=i\n",
    "    )\n",
    "plt.xlabel('yummy')\n",
    "plt.ylabel('convenient')\n",
    "plt.legend();\n",
    "plt.show()"
   ]
  },
  {
   "cell_type": "markdown",
   "metadata": {},
   "source": [
    "## Step 7: Describing Segments"
   ]
  },
  {
   "cell_type": "code",
   "execution_count": 24,
   "metadata": {},
   "outputs": [
    {
     "data": {
      "image/png": "[encoded data removed]",
      "text/plain": [
       "<Figure size 432x288 with 3 Axes>"
      ]
     },
     "metadata": {
      "needs_background": "light"
     },
     "output_type": "display_data"
    }
   ],
   "source": [
    "data = {\n",
    "    'Gender': ['Male', 'Female', 'Male', 'Female', 'Male', 'Female'],\n",
    "    'Preference': ['Yes', 'No', 'Yes', 'No', 'No', 'Yes']\n",
    "}\n",
    "example_df = pd.DataFrame(data)\n",
    "\n",
    "# Create a mosaic plot\n",
    "mosaic(example_df, ['Gender', 'Preference'], title='Mosaic Plot')\n",
    "\n",
    "plt.show()"
   ]
  },
  {
   "cell_type": "code",
   "execution_count": 25,
   "metadata": {},
   "outputs": [
    {
     "data": {
      "text/html": [
       "<div>\n",
       "<style scoped>\n",
       "    .dataframe tbody tr th:only-of-type {\n",
       "        vertical-align: middle;\n",
       "    }\n",
       "\n",
       "    .dataframe tbody tr th {\n",
       "        vertical-align: top;\n",
       "    }\n",
       "\n",
       "    .dataframe thead th {\n",
       "        text-align: right;\n",
       "    }\n",
       "</style>\n",
       "<table border=\"1\" class=\"dataframe\">\n",
       "  <thead>\n",
       "    <tr style=\"text-align: right;\">\n",
       "      <th></th>\n",
       "      <th>yummy</th>\n",
       "      <th>convenient</th>\n",
       "      <th>spicy</th>\n",
       "      <th>fattening</th>\n",
       "      <th>greasy</th>\n",
       "      <th>fast</th>\n",
       "      <th>cheap</th>\n",
       "      <th>tasty</th>\n",
       "      <th>expensive</th>\n",
       "      <th>healthy</th>\n",
       "      <th>disgusting</th>\n",
       "      <th>Like</th>\n",
       "      <th>Age</th>\n",
       "      <th>VisitFrequency</th>\n",
       "      <th>Gender</th>\n",
       "    </tr>\n",
       "  </thead>\n",
       "  <tbody>\n",
       "    <tr>\n",
       "      <th>0</th>\n",
       "      <td>0</td>\n",
       "      <td>1</td>\n",
       "      <td>0</td>\n",
       "      <td>1</td>\n",
       "      <td>0</td>\n",
       "      <td>1</td>\n",
       "      <td>1</td>\n",
       "      <td>0</td>\n",
       "      <td>1</td>\n",
       "      <td>0</td>\n",
       "      <td>0</td>\n",
       "      <td>-3</td>\n",
       "      <td>61</td>\n",
       "      <td>Every three months</td>\n",
       "      <td>Female</td>\n",
       "    </tr>\n",
       "    <tr>\n",
       "      <th>1</th>\n",
       "      <td>1</td>\n",
       "      <td>1</td>\n",
       "      <td>0</td>\n",
       "      <td>1</td>\n",
       "      <td>1</td>\n",
       "      <td>1</td>\n",
       "      <td>1</td>\n",
       "      <td>1</td>\n",
       "      <td>1</td>\n",
       "      <td>0</td>\n",
       "      <td>0</td>\n",
       "      <td>+2</td>\n",
       "      <td>51</td>\n",
       "      <td>Every three months</td>\n",
       "      <td>Female</td>\n",
       "    </tr>\n",
       "    <tr>\n",
       "      <th>2</th>\n",
       "      <td>0</td>\n",
       "      <td>1</td>\n",
       "      <td>1</td>\n",
       "      <td>1</td>\n",
       "      <td>1</td>\n",
       "      <td>1</td>\n",
       "      <td>0</td>\n",
       "      <td>1</td>\n",
       "      <td>1</td>\n",
       "      <td>1</td>\n",
       "      <td>0</td>\n",
       "      <td>+1</td>\n",
       "      <td>62</td>\n",
       "      <td>Every three months</td>\n",
       "      <td>Female</td>\n",
       "    </tr>\n",
       "    <tr>\n",
       "      <th>3</th>\n",
       "      <td>1</td>\n",
       "      <td>1</td>\n",
       "      <td>0</td>\n",
       "      <td>1</td>\n",
       "      <td>1</td>\n",
       "      <td>1</td>\n",
       "      <td>1</td>\n",
       "      <td>1</td>\n",
       "      <td>0</td>\n",
       "      <td>0</td>\n",
       "      <td>1</td>\n",
       "      <td>+4</td>\n",
       "      <td>69</td>\n",
       "      <td>Once a week</td>\n",
       "      <td>Female</td>\n",
       "    </tr>\n",
       "    <tr>\n",
       "      <th>4</th>\n",
       "      <td>0</td>\n",
       "      <td>1</td>\n",
       "      <td>0</td>\n",
       "      <td>1</td>\n",
       "      <td>1</td>\n",
       "      <td>1</td>\n",
       "      <td>1</td>\n",
       "      <td>0</td>\n",
       "      <td>0</td>\n",
       "      <td>1</td>\n",
       "      <td>0</td>\n",
       "      <td>+2</td>\n",
       "      <td>49</td>\n",
       "      <td>Once a month</td>\n",
       "      <td>Male</td>\n",
       "    </tr>\n",
       "  </tbody>\n",
       "</table>\n",
       "</div>"
      ],
      "text/plain": [
       "   yummy  convenient  spicy  fattening  greasy  fast  cheap  tasty  expensive  \\\n",
       "0      0           1      0          1       0     1      1      0          1   \n",
       "1      1           1      0          1       1     1      1      1          1   \n",
       "2      0           1      1          1       1     1      0      1          1   \n",
       "3      1           1      0          1       1     1      1      1          0   \n",
       "4      0           1      0          1       1     1      1      0          0   \n",
       "\n",
       "   healthy  disgusting Like  Age      VisitFrequency  Gender  \n",
       "0        0           0   -3   61  Every three months  Female  \n",
       "1        0           0   +2   51  Every three months  Female  \n",
       "2        1           0   +1   62  Every three months  Female  \n",
       "3        0           1   +4   69         Once a week  Female  \n",
       "4        1           0   +2   49        Once a month    Male  "
      ]
     },
     "execution_count": 25,
     "metadata": {},
     "output_type": "execute_result"
    }
   ],
   "source": [
    "df.head()"
   ]
  },
  {
   "cell_type": "code",
   "execution_count": 26,
   "metadata": {},
   "outputs": [
    {
     "data": {
      "text/html": [
       "<div>\n",
       "<style scoped>\n",
       "    .dataframe tbody tr th:only-of-type {\n",
       "        vertical-align: middle;\n",
       "    }\n",
       "\n",
       "    .dataframe tbody tr th {\n",
       "        vertical-align: top;\n",
       "    }\n",
       "\n",
       "    .dataframe thead th {\n",
       "        text-align: right;\n",
       "    }\n",
       "</style>\n",
       "<table border=\"1\" class=\"dataframe\">\n",
       "  <thead>\n",
       "    <tr style=\"text-align: right;\">\n",
       "      <th></th>\n",
       "      <th>yummy</th>\n",
       "      <th>convenient</th>\n",
       "      <th>spicy</th>\n",
       "      <th>fattening</th>\n",
       "      <th>greasy</th>\n",
       "      <th>fast</th>\n",
       "      <th>cheap</th>\n",
       "      <th>tasty</th>\n",
       "      <th>expensive</th>\n",
       "      <th>healthy</th>\n",
       "      <th>disgusting</th>\n",
       "      <th>Like</th>\n",
       "      <th>Age</th>\n",
       "      <th>VisitFrequency</th>\n",
       "      <th>Gender</th>\n",
       "      <th>segments</th>\n",
       "    </tr>\n",
       "  </thead>\n",
       "  <tbody>\n",
       "    <tr>\n",
       "      <th>0</th>\n",
       "      <td>0</td>\n",
       "      <td>1</td>\n",
       "      <td>0</td>\n",
       "      <td>1</td>\n",
       "      <td>0</td>\n",
       "      <td>1</td>\n",
       "      <td>1</td>\n",
       "      <td>0</td>\n",
       "      <td>1</td>\n",
       "      <td>0</td>\n",
       "      <td>0</td>\n",
       "      <td>-3</td>\n",
       "      <td>61</td>\n",
       "      <td>Every three months</td>\n",
       "      <td>Female</td>\n",
       "      <td>1</td>\n",
       "    </tr>\n",
       "    <tr>\n",
       "      <th>1</th>\n",
       "      <td>1</td>\n",
       "      <td>1</td>\n",
       "      <td>0</td>\n",
       "      <td>1</td>\n",
       "      <td>1</td>\n",
       "      <td>1</td>\n",
       "      <td>1</td>\n",
       "      <td>1</td>\n",
       "      <td>1</td>\n",
       "      <td>0</td>\n",
       "      <td>0</td>\n",
       "      <td>+2</td>\n",
       "      <td>51</td>\n",
       "      <td>Every three months</td>\n",
       "      <td>Female</td>\n",
       "      <td>0</td>\n",
       "    </tr>\n",
       "    <tr>\n",
       "      <th>2</th>\n",
       "      <td>0</td>\n",
       "      <td>1</td>\n",
       "      <td>1</td>\n",
       "      <td>1</td>\n",
       "      <td>1</td>\n",
       "      <td>1</td>\n",
       "      <td>0</td>\n",
       "      <td>1</td>\n",
       "      <td>1</td>\n",
       "      <td>1</td>\n",
       "      <td>0</td>\n",
       "      <td>+1</td>\n",
       "      <td>62</td>\n",
       "      <td>Every three months</td>\n",
       "      <td>Female</td>\n",
       "      <td>0</td>\n",
       "    </tr>\n",
       "    <tr>\n",
       "      <th>3</th>\n",
       "      <td>1</td>\n",
       "      <td>1</td>\n",
       "      <td>0</td>\n",
       "      <td>1</td>\n",
       "      <td>1</td>\n",
       "      <td>1</td>\n",
       "      <td>1</td>\n",
       "      <td>1</td>\n",
       "      <td>0</td>\n",
       "      <td>0</td>\n",
       "      <td>1</td>\n",
       "      <td>+4</td>\n",
       "      <td>69</td>\n",
       "      <td>Once a week</td>\n",
       "      <td>Female</td>\n",
       "      <td>3</td>\n",
       "    </tr>\n",
       "    <tr>\n",
       "      <th>4</th>\n",
       "      <td>0</td>\n",
       "      <td>1</td>\n",
       "      <td>0</td>\n",
       "      <td>1</td>\n",
       "      <td>1</td>\n",
       "      <td>1</td>\n",
       "      <td>1</td>\n",
       "      <td>0</td>\n",
       "      <td>0</td>\n",
       "      <td>1</td>\n",
       "      <td>0</td>\n",
       "      <td>+2</td>\n",
       "      <td>49</td>\n",
       "      <td>Once a month</td>\n",
       "      <td>Male</td>\n",
       "      <td>1</td>\n",
       "    </tr>\n",
       "  </tbody>\n",
       "</table>\n",
       "</div>"
      ],
      "text/plain": [
       "   yummy  convenient  spicy  fattening  greasy  fast  cheap  tasty  expensive  \\\n",
       "0      0           1      0          1       0     1      1      0          1   \n",
       "1      1           1      0          1       1     1      1      1          1   \n",
       "2      0           1      1          1       1     1      0      1          1   \n",
       "3      1           1      0          1       1     1      1      1          0   \n",
       "4      0           1      0          1       1     1      1      0          0   \n",
       "\n",
       "   healthy  disgusting Like  Age      VisitFrequency  Gender  segments  \n",
       "0        0           0   -3   61  Every three months  Female         1  \n",
       "1        0           0   +2   51  Every three months  Female         0  \n",
       "2        1           0   +1   62  Every three months  Female         0  \n",
       "3        0           1   +4   69         Once a week  Female         3  \n",
       "4        1           0   +2   49        Once a month    Male         1  "
      ]
     },
     "execution_count": 26,
     "metadata": {},
     "output_type": "execute_result"
    }
   ],
   "source": [
    "df2 = df\n",
    "df2['segments'] = l4\n",
    "df2.head()"
   ]
  },
  {
   "cell_type": "code",
   "execution_count": 27,
   "metadata": {},
   "outputs": [
    {
     "data": {
      "text/plain": [
       "Index(['yummy', 'convenient', 'spicy', 'fattening', 'greasy', 'fast', 'cheap',\n",
       "       'tasty', 'expensive', 'healthy', 'disgusting', 'Like', 'Age',\n",
       "       'VisitFrequency', 'Gender', 'segments'],\n",
       "      dtype='object')"
      ]
     },
     "execution_count": 27,
     "metadata": {},
     "output_type": "execute_result"
    }
   ],
   "source": [
    "df2.columns"
   ]
  },
  {
   "cell_type": "code",
   "execution_count": 28,
   "metadata": {},
   "outputs": [
    {
     "data": {
      "image/png": "[encoded data removed]",
      "text/plain": [
       "<Figure size 432x288 with 3 Axes>"
      ]
     },
     "metadata": {
      "needs_background": "light"
     },
     "output_type": "display_data"
    }
   ],
   "source": [
    "mosaic(df2, ['segments', 'Like'], title='Like');\n",
    "plt.show()"
   ]
  },
  {
   "cell_type": "markdown",
   "metadata": {},
   "source": [
    "## Step 8: Selecting (the) Target Segment(s)"
   ]
  },
  {
   "cell_type": "code",
   "execution_count": 29,
   "metadata": {},
   "outputs": [
    {
     "data": {
      "text/html": [
       "<div>\n",
       "<style scoped>\n",
       "    .dataframe tbody tr th:only-of-type {\n",
       "        vertical-align: middle;\n",
       "    }\n",
       "\n",
       "    .dataframe tbody tr th {\n",
       "        vertical-align: top;\n",
       "    }\n",
       "\n",
       "    .dataframe thead th {\n",
       "        text-align: right;\n",
       "    }\n",
       "</style>\n",
       "<table border=\"1\" class=\"dataframe\">\n",
       "  <thead>\n",
       "    <tr style=\"text-align: right;\">\n",
       "      <th></th>\n",
       "      <th>yummy</th>\n",
       "      <th>convenient</th>\n",
       "      <th>spicy</th>\n",
       "      <th>fattening</th>\n",
       "      <th>greasy</th>\n",
       "      <th>fast</th>\n",
       "      <th>cheap</th>\n",
       "      <th>tasty</th>\n",
       "      <th>expensive</th>\n",
       "      <th>healthy</th>\n",
       "      <th>disgusting</th>\n",
       "      <th>Like</th>\n",
       "      <th>Age</th>\n",
       "      <th>VisitFrequency</th>\n",
       "      <th>Gender</th>\n",
       "      <th>segments</th>\n",
       "    </tr>\n",
       "  </thead>\n",
       "  <tbody>\n",
       "    <tr>\n",
       "      <th>0</th>\n",
       "      <td>0</td>\n",
       "      <td>1</td>\n",
       "      <td>0</td>\n",
       "      <td>1</td>\n",
       "      <td>0</td>\n",
       "      <td>1</td>\n",
       "      <td>1</td>\n",
       "      <td>0</td>\n",
       "      <td>1</td>\n",
       "      <td>0</td>\n",
       "      <td>0</td>\n",
       "      <td>-3</td>\n",
       "      <td>61</td>\n",
       "      <td>Every three months</td>\n",
       "      <td>Female</td>\n",
       "      <td>1</td>\n",
       "    </tr>\n",
       "    <tr>\n",
       "      <th>1</th>\n",
       "      <td>1</td>\n",
       "      <td>1</td>\n",
       "      <td>0</td>\n",
       "      <td>1</td>\n",
       "      <td>1</td>\n",
       "      <td>1</td>\n",
       "      <td>1</td>\n",
       "      <td>1</td>\n",
       "      <td>1</td>\n",
       "      <td>0</td>\n",
       "      <td>0</td>\n",
       "      <td>+2</td>\n",
       "      <td>51</td>\n",
       "      <td>Every three months</td>\n",
       "      <td>Female</td>\n",
       "      <td>0</td>\n",
       "    </tr>\n",
       "    <tr>\n",
       "      <th>2</th>\n",
       "      <td>0</td>\n",
       "      <td>1</td>\n",
       "      <td>1</td>\n",
       "      <td>1</td>\n",
       "      <td>1</td>\n",
       "      <td>1</td>\n",
       "      <td>0</td>\n",
       "      <td>1</td>\n",
       "      <td>1</td>\n",
       "      <td>1</td>\n",
       "      <td>0</td>\n",
       "      <td>+1</td>\n",
       "      <td>62</td>\n",
       "      <td>Every three months</td>\n",
       "      <td>Female</td>\n",
       "      <td>0</td>\n",
       "    </tr>\n",
       "  </tbody>\n",
       "</table>\n",
       "</div>"
      ],
      "text/plain": [
       "   yummy  convenient  spicy  fattening  greasy  fast  cheap  tasty  expensive  \\\n",
       "0      0           1      0          1       0     1      1      0          1   \n",
       "1      1           1      0          1       1     1      1      1          1   \n",
       "2      0           1      1          1       1     1      0      1          1   \n",
       "\n",
       "   healthy  disgusting Like  Age      VisitFrequency  Gender  segments  \n",
       "0        0           0   -3   61  Every three months  Female         1  \n",
       "1        0           0   +2   51  Every three months  Female         0  \n",
       "2        1           0   +1   62  Every three months  Female         0  "
      ]
     },
     "execution_count": 29,
     "metadata": {},
     "output_type": "execute_result"
    }
   ],
   "source": [
    "df2.head(3)"
   ]
  },
  {
   "cell_type": "code",
   "execution_count": 30,
   "metadata": {},
   "outputs": [
    {
     "data": {
      "text/plain": [
       "array(['-3', '+2', '+1', '+4', 'I love it!+5', 'I hate it!-5', '-2', '+3',\n",
       "       '0', '-4', '-1'], dtype=object)"
      ]
     },
     "execution_count": 30,
     "metadata": {},
     "output_type": "execute_result"
    }
   ],
   "source": [
    "df2.Like.unique()"
   ]
  },
  {
   "cell_type": "code",
   "execution_count": 31,
   "metadata": {},
   "outputs": [],
   "source": [
    "df2.Like = df2.Like.str.extract(r'([-\\d]+)').astype(int)"
   ]
  },
  {
   "cell_type": "code",
   "execution_count": 32,
   "metadata": {},
   "outputs": [
    {
     "data": {
      "text/plain": [
       "array(['Every three months', 'Once a week', 'Once a month', 'Once a year',\n",
       "       'More than once a week', 'Never'], dtype=object)"
      ]
     },
     "execution_count": 32,
     "metadata": {},
     "output_type": "execute_result"
    }
   ],
   "source": [
    "df2.VisitFrequency.unique()"
   ]
  },
  {
   "cell_type": "code",
   "execution_count": 33,
   "metadata": {},
   "outputs": [],
   "source": [
    "df2.VisitFrequency = df2.VisitFrequency.replace({\n",
    "    'Every three months':1/(4*3), \n",
    "    'Once a week':1, \n",
    "    'Once a month':1/4, \n",
    "    'Once a year':1/52,\n",
    "    'More than once a week':2, \n",
    "    'Never':0\n",
    "})"
   ]
  },
  {
   "cell_type": "code",
   "execution_count": 34,
   "metadata": {},
   "outputs": [
    {
     "data": {
      "text/html": [
       "<div>\n",
       "<style scoped>\n",
       "    .dataframe tbody tr th:only-of-type {\n",
       "        vertical-align: middle;\n",
       "    }\n",
       "\n",
       "    .dataframe tbody tr th {\n",
       "        vertical-align: top;\n",
       "    }\n",
       "\n",
       "    .dataframe thead th {\n",
       "        text-align: right;\n",
       "    }\n",
       "</style>\n",
       "<table border=\"1\" class=\"dataframe\">\n",
       "  <thead>\n",
       "    <tr style=\"text-align: right;\">\n",
       "      <th></th>\n",
       "      <th>yummy</th>\n",
       "      <th>convenient</th>\n",
       "      <th>spicy</th>\n",
       "      <th>fattening</th>\n",
       "      <th>greasy</th>\n",
       "      <th>fast</th>\n",
       "      <th>cheap</th>\n",
       "      <th>tasty</th>\n",
       "      <th>expensive</th>\n",
       "      <th>healthy</th>\n",
       "      <th>disgusting</th>\n",
       "      <th>Like</th>\n",
       "      <th>Age</th>\n",
       "      <th>VisitFrequency</th>\n",
       "      <th>Gender</th>\n",
       "      <th>segments</th>\n",
       "    </tr>\n",
       "  </thead>\n",
       "  <tbody>\n",
       "    <tr>\n",
       "      <th>0</th>\n",
       "      <td>0</td>\n",
       "      <td>1</td>\n",
       "      <td>0</td>\n",
       "      <td>1</td>\n",
       "      <td>0</td>\n",
       "      <td>1</td>\n",
       "      <td>1</td>\n",
       "      <td>0</td>\n",
       "      <td>1</td>\n",
       "      <td>0</td>\n",
       "      <td>0</td>\n",
       "      <td>-3</td>\n",
       "      <td>61</td>\n",
       "      <td>0.083333</td>\n",
       "      <td>Female</td>\n",
       "      <td>1</td>\n",
       "    </tr>\n",
       "    <tr>\n",
       "      <th>1</th>\n",
       "      <td>1</td>\n",
       "      <td>1</td>\n",
       "      <td>0</td>\n",
       "      <td>1</td>\n",
       "      <td>1</td>\n",
       "      <td>1</td>\n",
       "      <td>1</td>\n",
       "      <td>1</td>\n",
       "      <td>1</td>\n",
       "      <td>0</td>\n",
       "      <td>0</td>\n",
       "      <td>2</td>\n",
       "      <td>51</td>\n",
       "      <td>0.083333</td>\n",
       "      <td>Female</td>\n",
       "      <td>0</td>\n",
       "    </tr>\n",
       "    <tr>\n",
       "      <th>2</th>\n",
       "      <td>0</td>\n",
       "      <td>1</td>\n",
       "      <td>1</td>\n",
       "      <td>1</td>\n",
       "      <td>1</td>\n",
       "      <td>1</td>\n",
       "      <td>0</td>\n",
       "      <td>1</td>\n",
       "      <td>1</td>\n",
       "      <td>1</td>\n",
       "      <td>0</td>\n",
       "      <td>1</td>\n",
       "      <td>62</td>\n",
       "      <td>0.083333</td>\n",
       "      <td>Female</td>\n",
       "      <td>0</td>\n",
       "    </tr>\n",
       "  </tbody>\n",
       "</table>\n",
       "</div>"
      ],
      "text/plain": [
       "   yummy  convenient  spicy  fattening  greasy  fast  cheap  tasty  expensive  \\\n",
       "0      0           1      0          1       0     1      1      0          1   \n",
       "1      1           1      0          1       1     1      1      1          1   \n",
       "2      0           1      1          1       1     1      0      1          1   \n",
       "\n",
       "   healthy  disgusting  Like  Age  VisitFrequency  Gender  segments  \n",
       "0        0           0    -3   61        0.083333  Female         1  \n",
       "1        0           0     2   51        0.083333  Female         0  \n",
       "2        1           0     1   62        0.083333  Female         0  "
      ]
     },
     "execution_count": 34,
     "metadata": {},
     "output_type": "execute_result"
    }
   ],
   "source": [
    "df2.head(3)"
   ]
  },
  {
   "cell_type": "code",
   "execution_count": 35,
   "metadata": {},
   "outputs": [
    {
     "data": {
      "image/png": "[encoded data removed]",
      "text/plain": [
       "<Figure size 576x432 with 2 Axes>"
      ]
     },
     "metadata": {
      "needs_background": "light"
     },
     "output_type": "display_data"
    }
   ],
   "source": [
    "visit_means = (df2.groupby(\"segments\")[\"VisitFrequency\"]\n",
    "               .mean())\n",
    "like_means = df2.groupby(\"segments\")[\"Like\"].mean()\n",
    "female_means = (df2.groupby(\"segments\")[\"Gender\"]\n",
    "                .apply(lambda x: (x == \"Female\")\n",
    "                .mean()))\n",
    "\n",
    "plt.figure(figsize=(8, 6))\n",
    "plt.scatter(\n",
    "    visit_means, \n",
    "    like_means, \n",
    "    c=female_means, \n",
    "    cmap=\"magma\"\n",
    ")\n",
    "plt.xlabel(\"Mean VisitFrequency\")\n",
    "plt.ylabel(\"Mean Like\")\n",
    "plt.title(\"Scatter Plot with Color-coded Female Proportion\")\n",
    "plt.colorbar(label=\"Female Proportion\")\n",
    "for i,j,k in zip(\n",
    "    visit_means, \n",
    "    like_means, \n",
    "    visit_means\n",
    "):\n",
    "    plt.text(i, j+0.1, round(k, 3))\n",
    "plt.show()"
   ]
  },
  {
   "cell_type": "markdown",
   "metadata": {},
   "source": [
    "The code calculates the means of attributes such as \"VisitFrequency,\" \"Like,\" and the proportion of \"Female\" within each cluster derived from previous clustering analyses. It then generates a scatter plot where the x-axis represents the mean \"VisitFrequency,\" the y-axis represents the mean \"Like,\" and the color of points represents the proportion of \"Female\" in each cluster, utilizing the \"magma\" colormap. Text labels displaying the corresponding \"VisitFrequency\" values are added to the points, aiding in visualization. This visualization provides insights into the distribution of these attributes and female proportion across the clusters. Specifically, the positive correlation observed between 'VisitFrequency' and 'Like' suggests that as visit frequency increases, customer liking tends to increase as well, indicating a positive relationship between the two attributes. Additionally, the graph suggests that as 'VisitFrequency' rises, the mean proportion of women in the clusters also increases, implying a potential connection between visit frequency and gender distribution within clusters. This analysis highlights both the positive association between visit frequency and customer liking and a potential pattern in gender distribution among clusters based on visit frequency.\n",
    "\n",
    "\n",
    "\n"
   ]
  },
  {
   "cell_type": "markdown",
   "metadata": {},
   "source": [
    "# Conclusion:\n",
    "\n",
    "1.<b> Data Acquisition and Preprocessing </b>: The data was retrieved from a CSV file using the requests library and then organized into a pandas DataFrame for analysis. Upon initial examination, the dataset showcased attributes like 'yummy,' 'convenient,' 'spicy,' 'fattening,' and others. These attributes provide insights into customers' perceptions regarding various aspects of McDonald's offerings.\n",
    "\n",
    "2.<b>  Exploratory Data Analysis (EDA) </b>: Descriptive statistics were calculated to gain insights into the distributions, means, and variations of the attributes within the dataset. This analysis provided a comprehensive overview of the data's characteristics. Additionally, attribute correlations were examined to uncover potential relationships between different attributes, shedding light on any patterns or dependencies present in the data. Furthermore, the frequency of attribute values was explored to gain an understanding of the common perceptions among customers, highlighting the prevalence of specific perceptions or opinions within the dataset. Collectively, these analyses facilitated a deeper understanding of the dataset's attributes and their interrelationships, aiding in subsequent data interpretation and decision-making processes.\n",
    "\n",
    "3.<b>  Data Transformation </b>: Attributes within the dataset that had binary values represented as 'Yes'/'No' were transformed into numerical equivalents, with 'Yes' being replaced by 1 and 'No' by 0. This conversion facilitated further analysis by making the data compatible with clustering algorithms and other numerical techniques.\n",
    "Additionally, the dataset was prepared for clustering by selecting a subset of attributes deemed relevant for analysis. This process involved carefully choosing attributes that were expected to have a significant impact on the clustering results or were of particular interest for the analysis at hand. By focusing on a subset of attributes, the dataset was streamlined, making the clustering process more efficient while still capturing the essential information needed for analysis.\n",
    "\n",
    "4.<b>  Principal Component Analysis (PCA) </b>: Principal Component Analysis (PCA) was utilized to reduce the dimensionality of the dataset while retaining the most significant variations in the data. By transforming the original features into a new set of orthogonal variables called principal components, PCA simplifies the data representation while preserving its essential characteristics.\n",
    "In this analysis, the first two principal components were selected for visualization purposes. These components capture the majority of the variability present in the data, allowing for a concise yet informative representation of the dataset in a lower-dimensional space. Visualizing the data using the first two principal components provides insights into the underlying structure and patterns within the dataset, facilitating interpretation and analysis.\n",
    "\n",
    "5.<b>  Clustering </b>: Both K-means clustering and Gaussian Mixture Model (GMM) clustering techniques were applied to the dataset to identify underlying patterns and groupings among the data points. These clustering algorithms partitioned the data into distinct clusters based on similarities between data points.\n",
    "To determine the optimal number of clusters, various metrics were employed, including silhouette scores, inertia, and visual analysis. Silhouette scores measure the cohesion and separation of clusters, with higher scores indicating better-defined clusters. Inertia, also known as within-cluster sum of squares, quantifies the compactness of clusters, with lower values indicating tighter clusters. Additionally, visual analysis involved examining cluster visualizations and inspecting cluster assignments to assess the quality of clustering solutions.\n",
    "By evaluating different numbers of clusters using these metrics, the most appropriate number of clusters was identified, leading to more meaningful and interpretable clustering results.\n",
    "\n",
    "6.<b>  Comparison of Clustering Results </b>: A confusion matrix was created to compare the cluster assignments generated by K-means and Gaussian Mixture Model (GMM) clustering algorithms. This matrix enabled a detailed examination of the agreement between the two methods across different cluster assignments. By comparing the predicted clusters from both algorithms against the true cluster labels, the confusion matrix provided insights into the degree of concordance or discrepancy between the clustering results produced by K-means and GMM. Analyzing the confusion matrix facilitated the identification of areas of agreement and disagreement between the two clustering methods, aiding in the assessment of their effectiveness and reliability in partitioning the dataset into meaningful clusters.\n",
    "\n",
    "7.<b>  Visualization and Interpretation </b>: Visualizations were created to illustrate the cluster assignments generated by the clustering algorithms and to explore the relationships between attributes within the clusters. Scatter plots were particularly useful in showcasing the distribution of attributes such as 'yummy' and 'convenient' within the clusters. Each data point on the scatter plot represented an instance in the dataset, with different clusters distinguished by varying colors or markers. By visualizing attribute distributions within clusters, these scatter plots provided insights into the characteristics of each cluster and how attributes were associated with each other within the identified clusters. This visual exploration helped in understanding the structure of the data and in identifying any discernible patterns or trends present among the attributes within the clusters.\n",
    "\n",
    "8.<b>  Attribute Relationships and Insights </b>: An observed positive correlation was noted between the attributes 'VisitFrequency' and 'Like,' suggesting that customers who visit McDonald's more frequently tend to express higher levels of liking for the food or experience. This positive association implies that increased visit frequency is linked with greater satisfaction or enjoyment among customers, highlighting the importance of repeat patronage in fostering positive perceptions.\n",
    "Furthermore, clusters characterized by higher 'VisitFrequency' exhibited a tendency to have a greater proportion of female customers. This observation suggests a potential relationship between visit frequency and gender distribution within the clusters. The presence of a higher proportion of female customers in clusters with higher visit frequencies could indicate specific preferences or behaviors among female patrons that lead to more frequent visits. Understanding such patterns in gender distribution across clusters can provide valuable insights for targeted marketing strategies and customer segmentation approaches tailored to different demographic groups.\n",
    "\n",
    "\n",
    "\n",
    "\n",
    "\n",
    "\n",
    "\n",
    "\n",
    "\n",
    "\n"
   ]
  },
  {
   "cell_type": "markdown",
   "metadata": {},
   "source": [
    "<b> Conclusion </b>:The data analysis conducted on McDonald's customer perceptions yielded valuable insights into customer preferences and segmentation. Utilizing techniques such as Principal Component Analysis (PCA) and clustering, distinct customer clusters were identified based on their perceptions. Notably, a positive correlation was observed between visit frequency and liking, suggesting that more frequent visitors tend to have more positive sentiments. Additionally, the relationship between visit frequency and the proportion of female customers in specific clusters hints at potential gender-specific preference patterns. The comparison of K-means and Gaussian Mixture Model (GMM) clustering provided a thorough evaluation of clustering stability. Overall, these findings offer actionable insights that McDonald's could leverage to tailor its offerings and services to different customer segments, ultimately enhancing the overall dining experience.\n",
    "\n",
    "\n",
    "\n"
   ]
  }
 ],
 "metadata": {
  "kernelspec": {
   "display_name": "Python 3",
   "language": "python",
   "name": "python3"
  },
  "language_info": {
   "codemirror_mode": {
    "name": "ipython",
    "version": 3
   },
   "file_extension": ".py",
   "mimetype": "text/x-python",
   "name": "python",
   "nbconvert_exporter": "python",
   "pygments_lexer": "ipython3",
   "version": "3.8.8"
  }
 },
 "nbformat": 4,
 "nbformat_minor": 2
}
